{
 "cells": [
  {
   "cell_type": "code",
   "execution_count": 1,
   "id": "598979a7-2709-45f5-8608-de2aee76e215",
   "metadata": {},
   "outputs": [
    {
     "data": {
      "text/plain": [
       "str"
      ]
     },
     "execution_count": 1,
     "metadata": {},
     "output_type": "execute_result"
    }
   ],
   "source": [
    "with open(\"miracle_in_the_andes.txt\",\"r\") as file:\n",
    "    book = file.read()\n",
    "type(book)"
   ]
  },
  {
   "cell_type": "code",
   "execution_count": 2,
   "id": "bae26a4e-bf41-4262-abe9-fd2c75eba19c",
   "metadata": {},
   "outputs": [
    {
     "data": {
      "text/plain": [
       "86810"
      ]
     },
     "execution_count": 2,
     "metadata": {},
     "output_type": "execute_result"
    }
   ],
   "source": [
    "import re\n",
    "pattern = re.compile(\"[a-zA-Z]+\")\n",
    "findings = re.findall(pattern, book.lower())\n",
    "len(findings)"
   ]
  },
  {
   "cell_type": "code",
   "execution_count": 3,
   "id": "cf7f87fe-2969-4a0e-9d03-0f3d0959b4bb",
   "metadata": {},
   "outputs": [],
   "source": [
    "d={}\n",
    "for word in findings:\n",
    "    if word in d.keys():\n",
    "        d[word] = d[word] +1\n",
    "    else:\n",
    "        d[word] = 1"
   ]
  },
  {
   "cell_type": "code",
   "execution_count": 4,
   "id": "674123f7-8a16-4029-86aa-ec2073bcbd46",
   "metadata": {},
   "outputs": [
    {
     "data": {
      "text/plain": [
       "[(5346, 'the'), (2795, 'and'), (2729, 'i'), (2400, 'to'), (2062, 'of')]"
      ]
     },
     "execution_count": 4,
     "metadata": {},
     "output_type": "execute_result"
    }
   ],
   "source": [
    "d_list=[(value,key) for (key,value) in d.items()]\n",
    "d_list = sorted(d_list,reverse=True)\n",
    "d_list[:5]"
   ]
  },
  {
   "cell_type": "code",
   "execution_count": 5,
   "id": "fd6bed5f-2208-426a-b92f-d68cdc1302b9",
   "metadata": {},
   "outputs": [
    {
     "data": {
      "text/plain": [
       "'3.10.6'"
      ]
     },
     "execution_count": 5,
     "metadata": {},
     "output_type": "execute_result"
    }
   ],
   "source": [
    "from platform import python_version\n",
    "python_version()\n"
   ]
  },
  {
   "cell_type": "code",
   "execution_count": 6,
   "id": "2156cb4e-745c-4b70-bd18-685d49280919",
   "metadata": {},
   "outputs": [
    {
     "name": "stdout",
     "output_type": "stream",
     "text": [
      "Defaulting to user installation because normal site-packages is not writeable\n",
      "Requirement already satisfied: nltk in /home/zahra/.local/lib/python3.10/site-packages (3.8.1)\n",
      "Requirement already satisfied: click in /home/zahra/.local/lib/python3.10/site-packages (from nltk) (8.0.1)\n",
      "Requirement already satisfied: joblib in /home/zahra/.local/lib/python3.10/site-packages (from nltk) (1.2.0)\n",
      "Requirement already satisfied: regex>=2021.8.3 in /home/zahra/.local/lib/python3.10/site-packages (from nltk) (2023.6.3)\n",
      "Requirement already satisfied: tqdm in /home/zahra/.local/lib/python3.10/site-packages (from nltk) (4.65.0)\n",
      "Note: you may need to restart the kernel to use updated packages.\n"
     ]
    }
   ],
   "source": [
    "pip install nltk"
   ]
  },
  {
   "cell_type": "code",
   "execution_count": 7,
   "id": "916d8fa3-1aca-4893-98b8-69019a6ba992",
   "metadata": {},
   "outputs": [
    {
     "data": {
      "text/plain": [
       "['i', 'me', 'my', 'myself', 'we']"
      ]
     },
     "execution_count": 7,
     "metadata": {},
     "output_type": "execute_result"
    }
   ],
   "source": [
    "import nltk\n",
    "from nltk.corpus import stopwords\n",
    "#nltk.download('stopwords')\n",
    "english_stopword =stopwords.words('english')\n",
    "english_stopword[:5]"
   ]
  },
  {
   "cell_type": "code",
   "execution_count": 8,
   "id": "c8251795-c86f-4b51-80e7-1baf1b07c310",
   "metadata": {},
   "outputs": [
    {
     "data": {
      "text/plain": [
       "[('would', 575),\n",
       " ('us', 519),\n",
       " ('said', 292),\n",
       " ('roberto', 284),\n",
       " ('could', 252),\n",
       " ('one', 249),\n",
       " ('snow', 227),\n",
       " ('mountain', 183),\n",
       " ('time', 182),\n",
       " ('like', 165)]"
      ]
     },
     "execution_count": 8,
     "metadata": {},
     "output_type": "execute_result"
    }
   ],
   "source": [
    "last_dict=[]\n",
    "for key, value  in d_list:\n",
    "    if value not in english_stopword:\n",
    "        last_dict.append((value,key))\n",
    "last_dict[:10]"
   ]
  },
  {
   "cell_type": "markdown",
   "id": "5810e7dc-c7e2-4ae6-b510-e3dd115382ee",
   "metadata": {},
   "source": [
    "## Sentiment Analysis : what is the mot positive ans the most negative chapter?"
   ]
  },
  {
   "cell_type": "markdown",
   "id": "e95e0473-5e31-4f43-ba2e-ae1d92a6c0df",
   "metadata": {},
   "source": [
    "### An example"
   ]
  },
  {
   "cell_type": "code",
   "execution_count": 9,
   "id": "2cb10447-848c-4ab1-8162-ec4d1fc44afa",
   "metadata": {},
   "outputs": [
    {
     "data": {
      "text/plain": [
       "{'neg': 0.0, 'neu': 1.0, 'pos': 0.0, 'compound': 0.0}"
      ]
     },
     "execution_count": 9,
     "metadata": {},
     "output_type": "execute_result"
    }
   ],
   "source": [
    "from nltk.sentiment import SentimentIntensityAnalyzer\n",
    "#nltk.download('vader_lexicon')\n",
    "analyzer= SentimentIntensityAnalyzer()\n",
    "analyzer.polarity_scores(\"hey, How are you\")"
   ]
  },
  {
   "cell_type": "code",
   "execution_count": 12,
   "id": "c307811a-24f5-4714-83e1-d011ffd0c750",
   "metadata": {},
   "outputs": [
    {
     "data": {
      "text/plain": [
       "{'neg': 0.116, 'neu': 0.76, 'pos': 0.125, 'compound': 1.0}"
      ]
     },
     "execution_count": 12,
     "metadata": {},
     "output_type": "execute_result"
    }
   ],
   "source": [
    "analyzer.polarity_scores(book)"
   ]
  },
  {
   "cell_type": "markdown",
   "id": "394506f0-377b-4142-a95c-a393a84b19fc",
   "metadata": {},
   "source": [
    "### Chapter sentiment analysiz"
   ]
  },
  {
   "cell_type": "code",
   "execution_count": 16,
   "id": "2bb04cd2-309c-42ee-9a0d-c8f85b53802e",
   "metadata": {},
   "outputs": [],
   "source": [
    "import re\n",
    "pattern= re.compile(\"Chapter [0-9]+\")\n",
    "chapters = re.split(pattern,book)\n",
    "chapters= chapters[1:]\n"
   ]
  },
  {
   "cell_type": "code",
   "execution_count": 26,
   "id": "2bdbf30f-2195-4684-904c-0dda724c649a",
   "metadata": {},
   "outputs": [
    {
     "name": "stdout",
     "output_type": "stream",
     "text": [
      "1 {'neg': 0.061, 'neu': 0.779, 'pos': 0.16, 'compound': 1.0}\n",
      "2 {'neg': 0.12, 'neu': 0.726, 'pos': 0.154, 'compound': 0.9991}\n",
      "3 {'neg': 0.145, 'neu': 0.751, 'pos': 0.105, 'compound': -0.9999}\n",
      "4 {'neg': 0.141, 'neu': 0.721, 'pos': 0.138, 'compound': -0.9963}\n",
      "5 {'neg': 0.118, 'neu': 0.742, 'pos': 0.141, 'compound': 0.9997}\n",
      "6 {'neg': 0.124, 'neu': 0.761, 'pos': 0.115, 'compound': -0.9979}\n",
      "7 {'neg': 0.136, 'neu': 0.761, 'pos': 0.103, 'compound': -0.9999}\n",
      "8 {'neg': 0.12, 'neu': 0.786, 'pos': 0.094, 'compound': -0.9998}\n",
      "9 {'neg': 0.097, 'neu': 0.824, 'pos': 0.079, 'compound': -0.9996}\n",
      "10 {'neg': 0.086, 'neu': 0.733, 'pos': 0.181, 'compound': 1.0}\n"
     ]
    }
   ],
   "source": [
    "for index,chapter in enumerate(chapters):\n",
    "    score=analyzer.polarity_scores(chapter)\n",
    "    print (index+1,score)"
   ]
  }
 ],
 "metadata": {
  "kernelspec": {
   "display_name": "Python 3 (ipykernel)",
   "language": "python",
   "name": "python3"
  },
  "language_info": {
   "codemirror_mode": {
    "name": "ipython",
    "version": 3
   },
   "file_extension": ".py",
   "mimetype": "text/x-python",
   "name": "python",
   "nbconvert_exporter": "python",
   "pygments_lexer": "ipython3",
   "version": "3.10.6"
  }
 },
 "nbformat": 4,
 "nbformat_minor": 5
}
